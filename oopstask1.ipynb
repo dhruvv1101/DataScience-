{
  "nbformat": 4,
  "nbformat_minor": 0,
  "metadata": {
    "colab": {
      "provenance": [],
      "include_colab_link": true
    },
    "kernelspec": {
      "name": "python3",
      "display_name": "Python 3"
    },
    "language_info": {
      "name": "python"
    }
  },
  "cells": [
    {
      "cell_type": "markdown",
      "metadata": {
        "id": "view-in-github",
        "colab_type": "text"
      },
      "source": [
        "<a href=\"https://colab.research.google.com/github/dhruvv1101/DataScience-/blob/main/oopstask1.ipynb\" target=\"_parent\"><img src=\"https://colab.research.google.com/assets/colab-badge.svg\" alt=\"Open In Colab\"/></a>"
      ]
    },
    {
      "cell_type": "markdown",
      "source": [
        "##`Q-1:` Rectangle Class\n",
        "1. Write a Rectangle class in Python language, allowing you to build a rectangle with length and width attributes.\n",
        "\n",
        "2. Create a Perimeter() method to calculate the perimeter of the rectangle and a Area() method to calculate the area of ​​the rectangle.\n",
        "\n",
        "3. Create a method display() that display the length, width, perimeter and area of an object created using an instantiation on rectangle class."
      ],
      "metadata": {
        "id": "FyUJ3PRAsPr4"
      }
    },
    {
      "cell_type": "markdown",
      "source": [
        "Eg.\n",
        "After making above classes and methods, on executing below code:-\n",
        "```\n",
        "my_rectangle = Rectangle(3 , 4)\n",
        "my_rectangle.display()\n",
        "```\n",
        "\n",
        "`Output:`\n",
        "```\n",
        "The length of rectangle is:  3\n",
        "The width of rectangle is:  4\n",
        "The perimeter of rectangle is:  14\n",
        "The area of rectangle is:  12\n",
        "```\n"
      ],
      "metadata": {
        "id": "GxUtOqJfssFK"
      }
    },
    {
      "cell_type": "code",
      "source": [
        "# write your code here\n",
        "class my_rectangle:\n",
        "  def __init__(self,length,width):\n",
        "    self.length=length\n",
        "    self.width=width\n",
        "  def peri(self):\n",
        "    return (2*(self.length+self.width))\n",
        "  def area(self):\n",
        "    return(self.length*self.width)\n",
        "  def display(self):\n",
        "    print(\"The length of rectangle is: \",self.length)\n",
        "    print(\"The width of rectangle is: \",self.width)\n",
        "    print(\"The perimeter of rectangle is: \",self.peri())\n",
        "    print(\"The area of rectangle is: \",self.area())\n",
        "r1=my_rectangle(3,4)\n",
        "r1.display()"
      ],
      "metadata": {
        "id": "92_QT-Uj6NBg",
        "colab": {
          "base_uri": "https://localhost:8080/"
        },
        "outputId": "a40a7816-623a-4073-c45a-10f03ef649b5"
      },
      "execution_count": 3,
      "outputs": [
        {
          "output_type": "stream",
          "name": "stdout",
          "text": [
            "The length of rectangle is:  3\n",
            "The width of rectangle is:  4\n",
            "The perimeter of rectangle is:  14\n",
            "The area of rectangle is:  12\n"
          ]
        }
      ]
    },
    {
      "cell_type": "markdown",
      "source": [
        "##`Q-2: Bank Class`\n",
        "\n",
        "1. Create a Python class called `BankAccount` which represents a bank account, having as attributes: `accountNumber` (numeric type), `name` (name of the account owner as string type), `balance`.\n",
        "2. Create a constructor with parameters: `accountNumber, name, balance`.\n",
        "3. Create a `Deposit()` method which manages the deposit actions.\n",
        "4. Create a `Withdrawal()` method  which manages withdrawals actions.\n",
        "5. Create an `bankFees()` method to apply the bank fees with a percentage of 5% of the balance account.\n",
        "6. Create a `display()` method to display account details.\n",
        "Give the complete code for the  BankAccount class."
      ],
      "metadata": {
        "id": "r_GxrS0Vrdom"
      }
    },
    {
      "cell_type": "markdown",
      "source": [
        "Eg.\n",
        "After making above classes and methods, on executing below code:-\n",
        "```\n",
        "newAccount = BankAccount(2178514584, \"Mandy\" , 2800)\n",
        "\n",
        "newAccount.Withdrawal(700)\n",
        "\n",
        "newAccount.Deposit(1000)\n",
        "\n",
        "newAccount.display()\n",
        "```\n",
        "\n",
        "`Output:`\n",
        "```\n",
        "Account Number :  2178514584\n",
        "Account Name :  Mandy\n",
        "Account Balance :  3100 ₹\n",
        "```"
      ],
      "metadata": {
        "id": "qvVkOUJgvTV_"
      }
    },
    {
      "cell_type": "code",
      "source": [
        "# write your code here\n",
        "class BankAccount:\n",
        "  def __init__(self,acn,name,bal):\n",
        "    self.acn=acn\n",
        "    self.name=name\n",
        "    self.bal=bal\n",
        "  def deposit(self,amt):\n",
        "    self.bal=self.bal+amt\n",
        "  def withdraw(self,amt):\n",
        "    self.bal=self.bal-amt\n",
        "  def bankfees(self):\n",
        "    self.bal=self.bal-0.05*self.bal\n",
        "  def display(self):\n",
        "    print(\"Account Number : \",self.acn)\n",
        "    print(\"Account Name : \",self.name)\n",
        "    print(\"Account Balance : \",self.bal)\n",
        "o=BankAccount(2178514584,\"Mandy\",2800)\n",
        "o.withdraw(700)\n",
        "o.deposit(1000)\n",
        "o.display()"
      ],
      "metadata": {
        "id": "fUQOmQyA6YDR",
        "colab": {
          "base_uri": "https://localhost:8080/"
        },
        "outputId": "2a4996a5-729a-44ec-93a2-7aa9926bacb8"
      },
      "execution_count": 5,
      "outputs": [
        {
          "output_type": "stream",
          "name": "stdout",
          "text": [
            "Account Number :  2178514584\n",
            "Account Name :  Mandy\n",
            "Account Balance :  3100\n"
          ]
        }
      ]
    },
    {
      "cell_type": "markdown",
      "source": [
        "##`Q-3:Computation class`\n",
        "\n",
        "1. Create a `Computation` class with a default constructor (without parameters) allowing to perform various calculations on integers numbers.\n",
        "2. Create a method called `Factorial()` which allows to calculate the factorial of an integer n. Integer n as parameter for this method\n",
        "\n",
        "3. Create a method called `naturalSum()` allowing to calculate the sum of the first n integers 1 + 2 + 3 + .. + n. Integer n as parameter for this method.\n",
        "\n",
        "4. Create a method called `testPrime()` in  the Calculation class to test the primality of a given integer n, n is Prime or Not? Integer n as parameter for this method.\n",
        "\n",
        "5. Create  a method called `testPrims()` allowing to test if two numbers are prime between them. Two integers are prime to one another if they have only `1` as their common divisor. Eg. 4 and 9 are prime to each other.\n",
        "\n",
        "5. Create a `tableMult()` method which creates and displays the multiplication table of a given integer. Then create an `allTablesMult()` method to display all the integer multiplication tables 1, 2, 3, ..., 9.\n",
        "\n",
        "6. Create a static `listDiv()` method that gets all the divisors of a given integer on new list called  Ldiv. Create another `listDivPrim()` method that gets all the prime divisors of a given integer."
      ],
      "metadata": {
        "id": "QovcQAZTrgGU"
      }
    },
    {
      "cell_type": "code",
      "source": [
        "# write your code here\n",
        "class Computation:\n",
        "  def __init__(self):\n",
        "    pass\n",
        "  def factorial(self,n):\n",
        "    c=1\n",
        "    for i in range(1,n+1):\n",
        "        c*=i\n",
        "    return c\n",
        "  def nsum(self,n):\n",
        "    return n*(n+1)/2\n",
        "  def testprime(self,n):\n",
        "    for i in range(2,n):\n",
        "      if n%i==0:\n",
        "        return False\n",
        "    return True\n",
        "  def testprim(self,a,b):\n",
        "    for i in range(2,a):\n",
        "      if a%i==0 or b%i==0:\n",
        "        return False\n",
        "    return True\n",
        "  def tablemult(self,n):\n",
        "    for i in range(1,11):\n",
        "      print(n,\"*\",i,\"=\",n*i)\n",
        "  def alltablesmult(self):\n",
        "    for i in range(1,10):\n",
        "      print(i,\"table\")\n",
        "      for j in range(1,11):\n",
        "        print(i,\"*\",j,\"=\",i*j)\n",
        "  def listdiv(self,n):\n",
        "    l=[]\n",
        "    for i in range(1,n+1):\n",
        "      if n%i==0:\n",
        "        l.append(i)\n",
        "    return l\n",
        "  def listdivprime(self,n):\n",
        "    l=[]\n",
        "    for i in range(2,n+1):\n",
        "      if self.testprime(i):\n",
        "        if self.testprime(n//i):\n",
        "          l.append(i)\n",
        "    return l\n",
        "o1=Computation().factorial(4)\n",
        "o2=Computation().nsum(4)\n",
        "o3=Computation().testprime(4)\n",
        "o4=Computation().testprim(4,9)\n",
        "o5=Computation().tablemult(4)\n",
        "o6=Computation().alltablesmult()\n",
        "o7=Computation().listdiv(4)\n",
        "o8=Computation().listdivprime(4)\n",
        "print(o1,o2,o3,o4,o7,o8)"
      ],
      "metadata": {
        "id": "YEkPH70l6Z-o",
        "colab": {
          "base_uri": "https://localhost:8080/"
        },
        "outputId": "93a17675-e07d-4d3c-c5dc-5a1edd86e411"
      },
      "execution_count": 11,
      "outputs": [
        {
          "output_type": "stream",
          "name": "stdout",
          "text": [
            "4 * 1 = 4\n",
            "4 * 2 = 8\n",
            "4 * 3 = 12\n",
            "4 * 4 = 16\n",
            "4 * 5 = 20\n",
            "4 * 6 = 24\n",
            "4 * 7 = 28\n",
            "4 * 8 = 32\n",
            "4 * 9 = 36\n",
            "4 * 10 = 40\n",
            "1 table\n",
            "1 * 1 = 1\n",
            "1 * 2 = 2\n",
            "1 * 3 = 3\n",
            "1 * 4 = 4\n",
            "1 * 5 = 5\n",
            "1 * 6 = 6\n",
            "1 * 7 = 7\n",
            "1 * 8 = 8\n",
            "1 * 9 = 9\n",
            "1 * 10 = 10\n",
            "2 table\n",
            "2 * 1 = 2\n",
            "2 * 2 = 4\n",
            "2 * 3 = 6\n",
            "2 * 4 = 8\n",
            "2 * 5 = 10\n",
            "2 * 6 = 12\n",
            "2 * 7 = 14\n",
            "2 * 8 = 16\n",
            "2 * 9 = 18\n",
            "2 * 10 = 20\n",
            "3 table\n",
            "3 * 1 = 3\n",
            "3 * 2 = 6\n",
            "3 * 3 = 9\n",
            "3 * 4 = 12\n",
            "3 * 5 = 15\n",
            "3 * 6 = 18\n",
            "3 * 7 = 21\n",
            "3 * 8 = 24\n",
            "3 * 9 = 27\n",
            "3 * 10 = 30\n",
            "4 table\n",
            "4 * 1 = 4\n",
            "4 * 2 = 8\n",
            "4 * 3 = 12\n",
            "4 * 4 = 16\n",
            "4 * 5 = 20\n",
            "4 * 6 = 24\n",
            "4 * 7 = 28\n",
            "4 * 8 = 32\n",
            "4 * 9 = 36\n",
            "4 * 10 = 40\n",
            "5 table\n",
            "5 * 1 = 5\n",
            "5 * 2 = 10\n",
            "5 * 3 = 15\n",
            "5 * 4 = 20\n",
            "5 * 5 = 25\n",
            "5 * 6 = 30\n",
            "5 * 7 = 35\n",
            "5 * 8 = 40\n",
            "5 * 9 = 45\n",
            "5 * 10 = 50\n",
            "6 table\n",
            "6 * 1 = 6\n",
            "6 * 2 = 12\n",
            "6 * 3 = 18\n",
            "6 * 4 = 24\n",
            "6 * 5 = 30\n",
            "6 * 6 = 36\n",
            "6 * 7 = 42\n",
            "6 * 8 = 48\n",
            "6 * 9 = 54\n",
            "6 * 10 = 60\n",
            "7 table\n",
            "7 * 1 = 7\n",
            "7 * 2 = 14\n",
            "7 * 3 = 21\n",
            "7 * 4 = 28\n",
            "7 * 5 = 35\n",
            "7 * 6 = 42\n",
            "7 * 7 = 49\n",
            "7 * 8 = 56\n",
            "7 * 9 = 63\n",
            "7 * 10 = 70\n",
            "8 table\n",
            "8 * 1 = 8\n",
            "8 * 2 = 16\n",
            "8 * 3 = 24\n",
            "8 * 4 = 32\n",
            "8 * 5 = 40\n",
            "8 * 6 = 48\n",
            "8 * 7 = 56\n",
            "8 * 8 = 64\n",
            "8 * 9 = 72\n",
            "8 * 10 = 80\n",
            "9 table\n",
            "9 * 1 = 9\n",
            "9 * 2 = 18\n",
            "9 * 3 = 27\n",
            "9 * 4 = 36\n",
            "9 * 5 = 45\n",
            "9 * 6 = 54\n",
            "9 * 7 = 63\n",
            "9 * 8 = 72\n",
            "9 * 9 = 81\n",
            "9 * 10 = 90\n",
            "24 10.0 False False [1, 2, 4] [2, 3]\n"
          ]
        }
      ]
    },
    {
      "cell_type": "markdown",
      "source": [
        "##`Q-4`: Build flashcard using class in Python.\n",
        "\n",
        "Build a flashcard using class in python. A flashcard is a card having information on both sides, which can be used as an aid in memoization. Flashcards usually have a question on one side and an answer on the other.\n",
        "\n",
        "**Example 1:**\n",
        "\n",
        "Approach:\n",
        "\n",
        "- Create a class named FlashCard.\n",
        "- Initialize dictionary fruits using __init__() method. Here you have to define fruit name as key and it's color as value. E.g., {\"Banana\": \"yellow\", \"Strawberries\": \"pink\"}\n",
        "- Now randomly choose a pair from fruits by using _random_ module and store the key in variable _fruit_ and _value_ in variable color.\n",
        "- Now prompt the user to answer the color of the randomly chosen fruit.\n",
        "- If correct print correct else print wrong.\n",
        "\n",
        "Output:\n",
        "```bash\n",
        "welcome to fruit quiz\n",
        "What is the color of Strawberries\n",
        "pink\n",
        "Correct answer\n",
        "Enter 0, if you want to play again: 0\n",
        "What is the color of watermelon\n",
        "green\n",
        "Correct answer\n",
        "Enter 0, if you want to play again: 1\n",
        "```"
      ],
      "metadata": {
        "id": "0yn23_oEriXa"
      }
    },
    {
      "cell_type": "code",
      "source": [
        "# write your code here\n",
        "import random\n",
        "class FlashCard:\n",
        "  def __init__(self):\n",
        "    self.fruits={\"Banana\": \"yellow\", \"Strawberries\": \"pink\",\"Mango\":\"yellow\",\"Orange\":\"orange\"}\n",
        "    self.fruit=random.choice(list(self.fruits.keys()))#gets the random choosen key from fruits dictionary\n",
        "    self.color=self.fruits[self.fruit]#passes the value to color\n",
        "o1=FlashCard()\n",
        "print(\"WELCOME TO FLASHCARS\")\n",
        "print(\"What is the color of \",o1.fruit)\n",
        "ans=input().lower()\n",
        "if ans==o1.color:\n",
        "  print(\"Correct answer\")\n",
        "else:\n",
        "  print(\"Wrong answer\")"
      ],
      "metadata": {
        "id": "vCrUF6VU6l6w",
        "colab": {
          "base_uri": "https://localhost:8080/"
        },
        "outputId": "f24d0162-1f97-4696-b67d-abaedefe61da"
      },
      "execution_count": 18,
      "outputs": [
        {
          "output_type": "stream",
          "name": "stdout",
          "text": [
            "WELCOME TO FLASHCARS\n",
            "What is the color of  Strawberries\n",
            "PINK\n",
            "Correct answer\n"
          ]
        }
      ]
    },
    {
      "cell_type": "markdown",
      "source": [
        "## `Q-5:` Problem 5 based on OOP Python.\n",
        "\n",
        "TechWorld, a technology training center, wants to allocate courses for instructors. An instructor is identified by name, technology skills, experience and average feedback. An instructor is allocated a course, if he/she satisfies the below two conditions:\n",
        "- eligibility criteria:\n",
        "    - if experience is more than 3 years, average feedback should be 4.5 or more\n",
        "    - if experience is 3 years or less, average feedback should be 4 or more\n",
        "- he/she should posses the technology skill for the course\n",
        "\n",
        "Identify the class name and attributes to represent instructors. Write a Python program to implement the class chosen with its attributes and methods.\n",
        "\n",
        "**Note:**\n",
        "- Consider all instance variables to be private and methods to be public.\n",
        "- An instructor may have multiple technology skills, so consider instance variable, technology_skill to be a list.\n",
        "- *check_eligibility()*: Return true if eligibility criteria is satisfied by the instructor. Else, return false\n",
        "- *allocate_course(technology)*: Return true if the course which requires the given technology can be allocated to the instructor. Else, return false.\n",
        "\n",
        "Represent a few objects of the class, initialize instance variables using setter methods, invoke\n",
        "appropriate methods and test your program."
      ],
      "metadata": {
        "id": "GN2r0jbRewYr"
      }
    },
    {
      "cell_type": "code",
      "source": [
        "# write your code here\n",
        "class Instructor:\n",
        "    def __init__(self):\n",
        "        self.__name = \"\"\n",
        "        self.__technology_skills = []\n",
        "        self.__experience = 0\n",
        "        self.__average_feedback = 0.0\n",
        "\n",
        "    # Setter methods\n",
        "    def set_name(self, name):\n",
        "        self.__name = name\n",
        "\n",
        "    def set_technology_skills(self, skill_list):\n",
        "        self.__technology_skills = skill_list\n",
        "\n",
        "    def set_experience(self, experience):\n",
        "        self.__experience = experience\n",
        "\n",
        "    def set_average_feedback(self, feedback):\n",
        "        self.__average_feedback = feedback\n",
        "\n",
        "    # Method to check eligibility based on experience and feedback\n",
        "    def check_eligibility(self):\n",
        "        if self.__experience > 3 and self.__average_feedback >= 4.5:\n",
        "            return True\n",
        "        elif self.__experience <= 3 and self.__average_feedback >= 4.0:\n",
        "            return True\n",
        "        else:\n",
        "            return False\n",
        "\n",
        "    # Method to allocate course based on skill and eligibility\n",
        "    def allocate_course(self, technology):\n",
        "        if self.check_eligibility() and technology in self.__technology_skills:\n",
        "            return True\n",
        "        return False\n",
        "\n",
        "    # Optional: For displaying instructor info\n",
        "    def __str__(self):\n",
        "        return f\"Instructor: {self.__name}, Skills: {self.__technology_skills}, Experience: {self.__experience} years, Feedback: {self.__average_feedback}\"\n",
        "# Sample instructor 1\n",
        "instructor1 = Instructor()\n",
        "instructor1.set_name(\"Alice\")\n",
        "instructor1.set_technology_skills([\"Python\", \"Java\"])\n",
        "instructor1.set_experience(5)\n",
        "instructor1.set_average_feedback(4.6)\n",
        "\n",
        "# Sample instructor 2\n",
        "instructor2 = Instructor()\n",
        "instructor2.set_name(\"Bob\")\n",
        "instructor2.set_technology_skills([\"C++\", \"AI\"])\n",
        "instructor2.set_experience(2)\n",
        "instructor2.set_average_feedback(3.8)\n",
        "\n",
        "# Sample instructor 3\n",
        "instructor3 = Instructor()\n",
        "instructor3.set_name(\"Charlie\")\n",
        "instructor3.set_technology_skills([\"ML\", \"Python\"])\n",
        "instructor3.set_experience(3)\n",
        "instructor3.set_average_feedback(4.0)\n",
        "\n",
        "# Test\n",
        "instructors = [instructor1, instructor2, instructor3]\n",
        "technologies = [\"Python\", \"AI\", \"ML\"]\n",
        "\n",
        "for i in range(len(instructors)):\n",
        "    print(instructors[i])\n",
        "    print(\"Eligible?\", instructors[i].check_eligibility())\n",
        "    print(f\"Can be allocated course in {technologies[i]}?\", instructors[i].allocate_course(technologies[i]))\n",
        "    print(\"-----\")\n",
        "\n",
        "\n"
      ],
      "metadata": {
        "id": "pdMFuVFnlvKL",
        "colab": {
          "base_uri": "https://localhost:8080/"
        },
        "outputId": "6e049b76-4c44-4311-ba02-a599fda8b374"
      },
      "execution_count": 24,
      "outputs": [
        {
          "output_type": "stream",
          "name": "stdout",
          "text": [
            "Instructor: Alice, Skills: ['Python', 'Java'], Experience: 5 years, Feedback: 4.6\n",
            "Eligible? True\n",
            "Can be allocated course in Python? True\n",
            "-----\n",
            "Instructor: Bob, Skills: ['C++', 'AI'], Experience: 2 years, Feedback: 3.8\n",
            "Eligible? False\n",
            "Can be allocated course in AI? False\n",
            "-----\n",
            "Instructor: Charlie, Skills: ['ML', 'Python'], Experience: 3 years, Feedback: 4.0\n",
            "Eligible? True\n",
            "Can be allocated course in ML? True\n",
            "-----\n"
          ]
        }
      ]
    }
  ]
}